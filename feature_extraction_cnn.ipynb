{
 "cells": [
  {
   "cell_type": "code",
   "execution_count": 1,
   "metadata": {},
   "outputs": [],
   "source": [
    "import IPython.display as ipd\n",
    "import librosa.display\n",
    "import matplotlib.pyplot as plt\n",
    "import numpy as np"
   ]
  },
  {
   "cell_type": "code",
   "execution_count": 2,
   "metadata": {},
   "outputs": [
    {
     "data": {
      "text/html": [
       "<div>\n",
       "<style scoped>\n",
       "    .dataframe tbody tr th:only-of-type {\n",
       "        vertical-align: middle;\n",
       "    }\n",
       "\n",
       "    .dataframe tbody tr th {\n",
       "        vertical-align: top;\n",
       "    }\n",
       "\n",
       "    .dataframe thead th {\n",
       "        text-align: right;\n",
       "    }\n",
       "</style>\n",
       "<table border=\"1\" class=\"dataframe\">\n",
       "  <thead>\n",
       "    <tr style=\"text-align: right;\">\n",
       "      <th></th>\n",
       "      <th>rating</th>\n",
       "      <th>playback_used</th>\n",
       "      <th>ebird_code</th>\n",
       "      <th>channels</th>\n",
       "      <th>date</th>\n",
       "      <th>pitch</th>\n",
       "      <th>duration</th>\n",
       "      <th>filename</th>\n",
       "      <th>speed</th>\n",
       "      <th>species</th>\n",
       "      <th>...</th>\n",
       "      <th>author</th>\n",
       "      <th>primary_label</th>\n",
       "      <th>longitude</th>\n",
       "      <th>length</th>\n",
       "      <th>time</th>\n",
       "      <th>recordist</th>\n",
       "      <th>license</th>\n",
       "      <th>resampled_sampling_rate</th>\n",
       "      <th>resampled_filename</th>\n",
       "      <th>resampled_channels</th>\n",
       "    </tr>\n",
       "  </thead>\n",
       "  <tbody>\n",
       "    <tr>\n",
       "      <th>0</th>\n",
       "      <td>3.5</td>\n",
       "      <td>NaN</td>\n",
       "      <td>amewig</td>\n",
       "      <td>1 (mono)</td>\n",
       "      <td>6/2/2013</td>\n",
       "      <td>level</td>\n",
       "      <td>20</td>\n",
       "      <td>XC150015.mp3</td>\n",
       "      <td>level</td>\n",
       "      <td>American Wigeon</td>\n",
       "      <td>...</td>\n",
       "      <td>Dugan Maynard</td>\n",
       "      <td>Mareca americana_American Wigeon</td>\n",
       "      <td>-111.3803</td>\n",
       "      <td>0-3(s)</td>\n",
       "      <td>5:00</td>\n",
       "      <td>Dugan Maynard</td>\n",
       "      <td>Creative Commons Attribution-NonCommercial-Sha...</td>\n",
       "      <td>32000</td>\n",
       "      <td>XC150015.wav</td>\n",
       "      <td>1 (mono)</td>\n",
       "    </tr>\n",
       "    <tr>\n",
       "      <th>1</th>\n",
       "      <td>3.0</td>\n",
       "      <td>no</td>\n",
       "      <td>amewig</td>\n",
       "      <td>1 (mono)</td>\n",
       "      <td>6/9/2013</td>\n",
       "      <td>level</td>\n",
       "      <td>24</td>\n",
       "      <td>XC150063.mp3</td>\n",
       "      <td>level</td>\n",
       "      <td>American Wigeon</td>\n",
       "      <td>...</td>\n",
       "      <td>Dugan Maynard</td>\n",
       "      <td>Mareca americana_American Wigeon</td>\n",
       "      <td>-111.3803</td>\n",
       "      <td>0-3(s)</td>\n",
       "      <td>6:00</td>\n",
       "      <td>Dugan Maynard</td>\n",
       "      <td>Creative Commons Attribution-NonCommercial-Sha...</td>\n",
       "      <td>32000</td>\n",
       "      <td>XC150063.wav</td>\n",
       "      <td>1 (mono)</td>\n",
       "    </tr>\n",
       "    <tr>\n",
       "      <th>2</th>\n",
       "      <td>1.0</td>\n",
       "      <td>no</td>\n",
       "      <td>amewig</td>\n",
       "      <td>1 (mono)</td>\n",
       "      <td>6/8/2013</td>\n",
       "      <td>both</td>\n",
       "      <td>25</td>\n",
       "      <td>XC152348.mp3</td>\n",
       "      <td>level</td>\n",
       "      <td>American Wigeon</td>\n",
       "      <td>...</td>\n",
       "      <td>Dugan Maynard</td>\n",
       "      <td>Mareca americana_American Wigeon</td>\n",
       "      <td>-111.3803</td>\n",
       "      <td>0-3(s)</td>\n",
       "      <td>22:00</td>\n",
       "      <td>Dugan Maynard</td>\n",
       "      <td>Creative Commons Attribution-NonCommercial-Sha...</td>\n",
       "      <td>32000</td>\n",
       "      <td>XC152348.wav</td>\n",
       "      <td>1 (mono)</td>\n",
       "    </tr>\n",
       "    <tr>\n",
       "      <th>3</th>\n",
       "      <td>3.5</td>\n",
       "      <td>no</td>\n",
       "      <td>amewig</td>\n",
       "      <td>1 (mono)</td>\n",
       "      <td>10/20/2013</td>\n",
       "      <td>both</td>\n",
       "      <td>153</td>\n",
       "      <td>XC152396.mp3</td>\n",
       "      <td>level</td>\n",
       "      <td>American Wigeon</td>\n",
       "      <td>...</td>\n",
       "      <td>Thomas G. Graves</td>\n",
       "      <td>Mareca americana_American Wigeon</td>\n",
       "      <td>-120.6205</td>\n",
       "      <td>0-3(s)</td>\n",
       "      <td>9:30</td>\n",
       "      <td>Thomas G. Graves</td>\n",
       "      <td>Creative Commons Attribution-NonCommercial-Sha...</td>\n",
       "      <td>32000</td>\n",
       "      <td>XC152396.wav</td>\n",
       "      <td>1 (mono)</td>\n",
       "    </tr>\n",
       "    <tr>\n",
       "      <th>4</th>\n",
       "      <td>1.5</td>\n",
       "      <td>no</td>\n",
       "      <td>amewig</td>\n",
       "      <td>1 (mono)</td>\n",
       "      <td>6/2/2013</td>\n",
       "      <td>level</td>\n",
       "      <td>18</td>\n",
       "      <td>XC152873.mp3</td>\n",
       "      <td>level</td>\n",
       "      <td>American Wigeon</td>\n",
       "      <td>...</td>\n",
       "      <td>Dugan Maynard</td>\n",
       "      <td>Mareca americana_American Wigeon</td>\n",
       "      <td>-111.3803</td>\n",
       "      <td>0-3(s)</td>\n",
       "      <td>5:00</td>\n",
       "      <td>Dugan Maynard</td>\n",
       "      <td>Creative Commons Attribution-NonCommercial-Sha...</td>\n",
       "      <td>32000</td>\n",
       "      <td>XC152873.wav</td>\n",
       "      <td>1 (mono)</td>\n",
       "    </tr>\n",
       "  </tbody>\n",
       "</table>\n",
       "<p>5 rows × 38 columns</p>\n",
       "</div>"
      ],
      "text/plain": [
       "   rating playback_used ebird_code  channels        date  pitch  duration  \\\n",
       "0     3.5           NaN     amewig  1 (mono)    6/2/2013  level        20   \n",
       "1     3.0            no     amewig  1 (mono)    6/9/2013  level        24   \n",
       "2     1.0            no     amewig  1 (mono)    6/8/2013   both        25   \n",
       "3     3.5            no     amewig  1 (mono)  10/20/2013   both       153   \n",
       "4     1.5            no     amewig  1 (mono)    6/2/2013  level        18   \n",
       "\n",
       "       filename  speed          species  ...            author  \\\n",
       "0  XC150015.mp3  level  American Wigeon  ...     Dugan Maynard   \n",
       "1  XC150063.mp3  level  American Wigeon  ...     Dugan Maynard   \n",
       "2  XC152348.mp3  level  American Wigeon  ...     Dugan Maynard   \n",
       "3  XC152396.mp3  level  American Wigeon  ...  Thomas G. Graves   \n",
       "4  XC152873.mp3  level  American Wigeon  ...     Dugan Maynard   \n",
       "\n",
       "                      primary_label  longitude  length   time  \\\n",
       "0  Mareca americana_American Wigeon  -111.3803  0-3(s)   5:00   \n",
       "1  Mareca americana_American Wigeon  -111.3803  0-3(s)   6:00   \n",
       "2  Mareca americana_American Wigeon  -111.3803  0-3(s)  22:00   \n",
       "3  Mareca americana_American Wigeon  -120.6205  0-3(s)   9:30   \n",
       "4  Mareca americana_American Wigeon  -111.3803  0-3(s)   5:00   \n",
       "\n",
       "          recordist                                            license  \\\n",
       "0     Dugan Maynard  Creative Commons Attribution-NonCommercial-Sha...   \n",
       "1     Dugan Maynard  Creative Commons Attribution-NonCommercial-Sha...   \n",
       "2     Dugan Maynard  Creative Commons Attribution-NonCommercial-Sha...   \n",
       "3  Thomas G. Graves  Creative Commons Attribution-NonCommercial-Sha...   \n",
       "4     Dugan Maynard  Creative Commons Attribution-NonCommercial-Sha...   \n",
       "\n",
       "  resampled_sampling_rate resampled_filename resampled_channels  \n",
       "0                   32000       XC150015.wav           1 (mono)  \n",
       "1                   32000       XC150063.wav           1 (mono)  \n",
       "2                   32000       XC152348.wav           1 (mono)  \n",
       "3                   32000       XC152396.wav           1 (mono)  \n",
       "4                   32000       XC152873.wav           1 (mono)  \n",
       "\n",
       "[5 rows x 38 columns]"
      ]
     },
     "execution_count": 2,
     "metadata": {},
     "output_type": "execute_result"
    }
   ],
   "source": [
    "#importing csv\n",
    "import pandas as pd\n",
    "metadata = pd.read_csv(\"C:\\\\Users\\\\LENOVO\\\\Desktop\\\\SE\\\\Project\\\\train_dataset\\\\train_data.csv\",encoding='unicode_escape')\n",
    "metadata.head(5)"
   ]
  },
  {
   "cell_type": "code",
   "execution_count": 3,
   "metadata": {},
   "outputs": [
    {
     "name": "stdout",
     "output_type": "stream",
     "text": [
      "['amewig' 'amewoo' 'amtspa' 'annhum' 'astfly' 'baisan' 'baleag' 'balori'\n",
      " 'banswa' 'barswa' 'bawwar' 'belkin1']\n"
     ]
    },
    {
     "data": {
      "text/plain": [
       "(923, 38)"
      ]
     },
     "execution_count": 3,
     "metadata": {},
     "output_type": "execute_result"
    }
   ],
   "source": [
    "print(metadata['ebird_code'].unique())\n",
    "metadata.shape"
   ]
  },
  {
   "cell_type": "code",
   "execution_count": 4,
   "metadata": {},
   "outputs": [
    {
     "name": "stdout",
     "output_type": "stream",
     "text": [
      "['amewig' 'amewoo' 'amtspa' 'annhum' 'astfly' 'baisan' 'baleag' 'balori'\n",
      " 'banswa' 'barswa' 'bawwar' 'belkin1']\n"
     ]
    },
    {
     "data": {
      "image/png": "[encoded data removed]",
      "text/plain": [
       "<Figure size 640x480 with 1 Axes>"
      ]
     },
     "metadata": {},
     "output_type": "display_data"
    },
    {
     "data": {
      "text/plain": [
       "(923, 38)"
      ]
     },
     "execution_count": 4,
     "metadata": {},
     "output_type": "execute_result"
    }
   ],
   "source": [
    "metadata['ebird_code'].dropna(inplace=True,axis=0)\n",
    "print(metadata['ebird_code'].unique())\n",
    "metadata['ebird_code'].value_counts().plot(kind='bar')\n",
    "plt.show()\n",
    "metadata.shape"
   ]
  },
  {
   "cell_type": "code",
   "execution_count": 3,
   "metadata": {},
   "outputs": [],
   "source": [
    "from scipy import signal\n",
    "\n",
    "def get_mfcc(file_name,mfcc_max_padding=0):\n",
    "    #load the file (audio)\n",
    "    y, sample_rate = librosa.load(file_name, res_type='kaiser_best',duration=10)\n",
    "    #TRIMMING THE LEADING AND TRAILING SILENCE\n",
    "    # Normalize audio data between -1 and 1\n",
    "    normalized_y = librosa.util.normalize(y)\n",
    "    # Compute MFCC coefficients\n",
    "    mfcc = librosa.feature.mfcc(y=normalized_y, sr=sample_rate, n_mfcc=40)\n",
    "    # Normalize MFCC between -1 and 1\n",
    "    normalized_mfcc = librosa.util.normalize(mfcc)\n",
    "    # Should we require padding\n",
    "    shape = normalized_mfcc.shape[1]\n",
    "    if (mfcc_max_padding > 0 & shape < mfcc_max_padding):\n",
    "            xDiff = mfcc_max_padding - shape\n",
    "            xLeft = xDiff//2\n",
    "            xRight = xDiff-xLeft\n",
    "            normalized_mfcc = np.pad(normalized_mfcc, pad_width=((0,0), (xLeft, xRight)), mode='constant')\n",
    "    return normalized_mfcc"
   ]
  },
  {
   "cell_type": "code",
   "execution_count": 6,
   "metadata": {},
   "outputs": [
    {
     "data": {
      "text/plain": [
       "(40, 431)"
      ]
     },
     "execution_count": 6,
     "metadata": {},
     "output_type": "execute_result"
    }
   ],
   "source": [
    "file_name = os.path.abspath(\"C:\\\\Users\\\\LENOVO\\\\Desktop\\\\SE\\\\Project\\\\train_dataset\\\\bulori\")+\"\\\\XC177260.wav\"\n",
    "data=get_mfcc(file_name)\n",
    "data.shape"
   ]
  },
  {
   "cell_type": "code",
   "execution_count": 5,
   "metadata": {},
   "outputs": [
    {
     "data": {
      "text/plain": [
       "(40, 336)"
      ]
     },
     "execution_count": 5,
     "metadata": {},
     "output_type": "execute_result"
    }
   ],
   "source": [
    "file_name = os.path.abspath(\"C:\\\\Users\\\\LENOVO\\\\Desktop\\\\SE\\\\Project\\\\train_dataset\")+\"\\\\aldfly\\\\XC135459.wav\"\n",
    "data=get_mfcc(file_name)\n",
    "data.shape"
   ]
  },
  {
   "cell_type": "code",
   "execution_count": 4,
   "metadata": {},
   "outputs": [],
   "source": [
    "# Given an numpy array of features, zero-pads each ocurrence to max_padding\n",
    "def add_padding(features, mfcc_max_padding=174):\n",
    "    padded = []\n",
    "\n",
    "    # Add padding\n",
    "    for i in range(len(features)):\n",
    "        px = features[i]\n",
    "        size = len(px[0])\n",
    "        # Add padding if required\n",
    "        if (size < mfcc_max_padding):\n",
    "            xDiff = mfcc_max_padding - size\n",
    "            xLeft = xDiff//2\n",
    "            xRight = xDiff-xLeft\n",
    "            px = np.pad(px, pad_width=((0,0), (xLeft, xRight)), mode='constant')\n",
    "        \n",
    "        padded.append(px)\n",
    "\n",
    "    return padded"
   ]
  },
  {
   "cell_type": "code",
   "execution_count": 24,
   "metadata": {},
   "outputs": [],
   "source": [
    "# Scales data between x_min and x_max\n",
    "def scale(X, x_min, x_max, axis=0):\n",
    "    nom = (X-X.min(axis=axis))*(x_max-x_min)\n",
    "    denom = X.max(axis=axis) - X.min(axis=axis)\n",
    "    denom[denom==0] = 1\n",
    "    return x_min + nom/denom "
   ]
  },
  {
   "cell_type": "code",
   "execution_count": 25,
   "metadata": {},
   "outputs": [
    {
     "name": "stdout",
     "output_type": "stream",
     "text": [
      "Audio File: [-2.9613268e-05 -1.6397324e-05 -6.1463498e-07 ...  0.0000000e+00\n",
      "  0.0000000e+00  0.0000000e+00] \n",
      "\n",
      "Audio File shape: (171649,)\n"
     ]
    }
   ],
   "source": [
    "y, sr = librosa.load(\"C:\\\\Users\\\\LENOVO\\\\Desktop\\\\SE\\\\Project\\\\train_dataset\\\\aldfly\\\\XC135459.wav\")\n",
    "audio_file, _ = librosa.effects.trim(y)\n",
    "print('Audio File:', audio_file, '\\n')\n",
    "print('Audio File shape:', np.shape(audio_file))\n"
   ]
  },
  {
   "cell_type": "code",
   "execution_count": 33,
   "metadata": {},
   "outputs": [
    {
     "name": "stderr",
     "output_type": "stream",
     "text": [
      "923it [11:37,  1.32it/s]"
     ]
    },
    {
     "name": "stdout",
     "output_type": "stream",
     "text": [
      "Finished: 922/923\n"
     ]
    },
    {
     "name": "stderr",
     "output_type": "stream",
     "text": [
      "\n"
     ]
    }
   ],
   "source": [
    "from tqdm import tqdm\n",
    "# Iterate through all audio files and extract MFCC\n",
    "features = []\n",
    "labels = []\n",
    "frames_max = 0\n",
    "\n",
    "total_samples = len(metadata)\n",
    "n_mfcc = 40\n",
    "resampled_filenames=[]\n",
    "\n",
    "\n",
    "for index, row in tqdm(metadata.iterrows()):\n",
    "    file_path = os.path.join(os.path.abspath(\"C:\\\\Users\\\\LENOVO\\\\Desktop\\\\SE\\\\Project\\\\train_dataset\"),str(row[\"ebird_code\"])+'/',str(row[\"resampled_filename\"]))\n",
    "    class_label = row[\"ebird_code\"]\n",
    "\n",
    "    # Extract MFCCs (do not add padding)\n",
    "    mfccs = get_mfcc(file_path, 0)\n",
    "    \n",
    "    # Save current frame count\n",
    "    num_frames = mfccs.shape[1]\n",
    "    \n",
    "    # Add row (feature / label)\n",
    "    features.append(mfccs)\n",
    "    labels.append(class_label)\n",
    "    resampled_filenames.append(row['resampled_filename'])\n",
    "    # Update frames maximum\n",
    "    if (num_frames > frames_max):\n",
    "        frames_max = num_frames\n",
    "    \n",
    "print(\"Finished: {}/{}\".format(index, total_samples))"
   ]
  },
  {
   "cell_type": "code",
   "execution_count": 34,
   "metadata": {},
   "outputs": [
    {
     "name": "stdout",
     "output_type": "stream",
     "text": [
      "Raw features length: 923\n",
      "Padded features length: 923\n",
      "Feature labels length: 923\n",
      "FIlenames length: 923\n"
     ]
    }
   ],
   "source": [
    "padded_features = add_padding(features, frames_max)\n",
    "# Verify shapes\n",
    "print(\"Raw features length: {}\".format(len(features)))\n",
    "print(\"Padded features length: {}\".format(len(padded_features)))\n",
    "print(\"Feature labels length: {}\".format(len(labels)))\n",
    "print(\"FIlenames length: {}\".format(len(resampled_filenames)))"
   ]
  },
  {
   "cell_type": "code",
   "execution_count": 36,
   "metadata": {},
   "outputs": [],
   "source": [
    "# Convert features (X) and labels (y) to Numpy arrays\n",
    "X = np.array(padded_features)\n",
    "y = np.array(labels)\n",
    "\n",
    "# Optionally save the features to disk\n",
    "np.save(\"train_dataset/X-mfcc\", X)\n",
    "np.save(\"train_dataset/y-mfcc\", y)"
   ]
  },
  {
   "cell_type": "markdown",
   "metadata": {},
   "source": [
    "**MEL SPECTOGRAM**"
   ]
  },
  {
   "cell_type": "code",
   "execution_count": 42,
   "metadata": {},
   "outputs": [],
   "source": [
    "# Generates/extracts Log-MEL Spectrogram coefficients with LibRosa \n",
    "def get_mel_spectrogram(file_path, mfcc_max_padding=0, n_fft=2048, hop_length=512, n_mels=128):\n",
    "        # Load audio file\n",
    "        y, sr = librosa.load(file_path)\n",
    "\n",
    "        # Normalize audio data between -1 and 1\n",
    "        normalized_y = librosa.util.normalize(y)\n",
    "\n",
    "        # Generate mel scaled filterbanks\n",
    "        mel = librosa.feature.melspectrogram(y=normalized_y, sr=sr, n_mels=n_mels)\n",
    "\n",
    "        # Convert sound intensity to log amplitude:\n",
    "        mel_db = librosa.amplitude_to_db(abs(mel))\n",
    "\n",
    "        # Normalize between -1 and 1\n",
    "        normalized_mel = librosa.util.normalize(mel_db)\n",
    "\n",
    "        # Should we require padding\n",
    "        shape = normalized_mel.shape[1]\n",
    "        if (mfcc_max_padding > 0 & shape < mfcc_max_padding):\n",
    "            xDiff = mfcc_max_padding - shape\n",
    "            xLeft = xDiff//2\n",
    "            xRight = xDiff-xLeft\n",
    "            normalized_mel = np.pad(normalized_mel, pad_width=((0,0), (xLeft, xRight)), mode='constant')\n",
    "        return normalized_mel\n"
   ]
  },
  {
   "cell_type": "code",
   "execution_count": 43,
   "metadata": {},
   "outputs": [
    {
     "name": "stderr",
     "output_type": "stream",
     "text": [
      "501it [33:04,  4.78s/it]"
     ]
    },
    {
     "name": "stdout",
     "output_type": "stream",
     "text": [
      "Status: 501/923\n"
     ]
    },
    {
     "name": "stderr",
     "output_type": "stream",
     "text": [
      "923it [1:32:16,  6.00s/it] "
     ]
    },
    {
     "name": "stdout",
     "output_type": "stream",
     "text": [
      "Finished: 922/923\n"
     ]
    },
    {
     "name": "stderr",
     "output_type": "stream",
     "text": [
      "\n"
     ]
    }
   ],
   "source": [
    "# Iterate through all audio files and extract MFCC\n",
    "features = []\n",
    "labels = []\n",
    "frames_max = 0\n",
    "counter = 0\n",
    "total_samples = len(metadata)\n",
    "n_mels=40\n",
    "\n",
    "\n",
    "for index, row in tqdm(metadata.iterrows()):\n",
    "    file_path = os.path.join(os.path.abspath(\"C:\\\\Users\\\\LENOVO\\\\Desktop\\\\SE\\\\Project\\\\train_dataset\"),str(row[\"ebird_code\"])+'/',str(row[\"resampled_filename\"]))\n",
    "    class_label = row[\"ebird_code\"]\n",
    "\n",
    "    # Extract Log-Mel Spectrograms (do not add padding)\n",
    "    mels = get_mel_spectrogram(file_path, 0, n_mels=n_mels)\n",
    "    \n",
    "    # Save current frame count\n",
    "    num_frames = mels.shape[1]\n",
    "    \n",
    "    # Add row (feature / label)\n",
    "    features.append(mels)\n",
    "    labels.append(class_label)\n",
    "\n",
    "    # Update frames maximum\n",
    "    if (num_frames > frames_max):\n",
    "        frames_max = num_frames\n",
    "\n",
    "    # Notify update every N files\n",
    "    if (counter == 500):\n",
    "        print(\"Status: {}/{}\".format(index+1, total_samples))\n",
    "        counter = 0\n",
    "\n",
    "    counter += 1\n",
    "    \n",
    "print(\"Finished: {}/{}\".format(index, total_samples))"
   ]
  },
  {
   "cell_type": "code",
   "execution_count": 44,
   "metadata": {},
   "outputs": [
    {
     "name": "stdout",
     "output_type": "stream",
     "text": [
      "Raw features length: 923\n",
      "Padded features length: 923\n",
      "Feature labels length: 923\n"
     ]
    }
   ],
   "source": [
    "# Add padding to features with less than frames than frames_max\n",
    "padded_features = add_padding(features, frames_max)\n",
    "# Verify shapes\n",
    "print(\"Raw features length: {}\".format(len(features)))\n",
    "print(\"Padded features length: {}\".format(len(padded_features)))\n",
    "print(\"Feature labels length: {}\".format(len(labels)))"
   ]
  },
  {
   "cell_type": "code",
   "execution_count": null,
   "metadata": {},
   "outputs": [],
   "source": [
    "# Convert features (X) and labels (y) to Numpy arrays\n",
    "X = np.array(padded_features)\n",
    "y = np.array(labels)\n",
    "\n",
    "np.save(\"train_dataset/X-mel_spec\", X)\n",
    "np.save(\"train_dataset/y-mel_spec\", y)"
   ]
  }
 ],
 "metadata": {
  "kernelspec": {
   "display_name": "Python 3.10.8 64-bit (microsoft store)",
   "language": "python",
   "name": "python3"
  },
  "language_info": {
   "codemirror_mode": {
    "name": "ipython",
    "version": 3
   },
   "file_extension": ".py",
   "mimetype": "text/x-python",
   "name": "python",
   "nbconvert_exporter": "python",
   "pygments_lexer": "ipython3",
   "version": "3.10.8"
  },
  "orig_nbformat": 4,
  "vscode": {
   "interpreter": {
    "hash": "84fd2673a0f847bf80637898000f9b4175f2ffd476d5f31b41a838c2acdb5b76"
   }
  }
 },
 "nbformat": 4,
 "nbformat_minor": 2
}
