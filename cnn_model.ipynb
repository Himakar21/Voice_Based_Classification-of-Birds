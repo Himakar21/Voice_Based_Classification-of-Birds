{
 "cells": [
  {
   "cell_type": "markdown",
   "metadata": {
    "nbpresent": {
     "id": "bb86170e-2226-491a-8aec-e01925008746"
    }
   },
   "source": [
    "#### * Load required libraries"
   ]
  },
  {
   "cell_type": "code",
   "execution_count": 1,
   "metadata": {
    "nbpresent": {
     "id": "8afd8752-1ca6-4fe1-b14d-b16615d0199b"
    }
   },
   "outputs": [],
   "source": [
    "import sys\n",
    "import os\n",
    "import IPython\n",
    "import math\n",
    "import numpy as np\n",
    "import pandas as pd\n",
    "import pickle\n",
    "import matplotlib.pyplot as plt\n",
    "%matplotlib inline\n",
    "\n",
    "import random\n",
    "from datetime import datetime\n",
    "\n",
    "from tensorflow.keras.models import Sequential, load_model\n",
    "from tensorflow.keras.layers import Dense, Conv2D, MaxPooling2D, Dropout,Flatten,BatchNormalization\n",
    "from tensorflow.keras.optimizers import Adam\n",
    "from tensorflow.keras.utils import to_categorical\n",
    "from tensorflow.keras.callbacks import ModelCheckpoint \n",
    "from tensorflow.keras.regularizers import l2\n",
    "\n",
    "from sklearn.preprocessing import LabelEncoder\n",
    "from sklearn.metrics import classification_report, confusion_matrix"
   ]
  },
  {
   "cell_type": "markdown",
   "metadata": {
    "nbpresent": {
     "id": "a7b58aa0-2b3c-4854-a099-31d117ba74e1"
    }
   },
   "source": [
    "#### * Load MFCC data"
   ]
  },
  {
   "cell_type": "code",
   "execution_count": 7,
   "metadata": {
    "nbpresent": {
     "id": "87d3ebd1-0d75-4ea4-8f12-9f891a72d3e2"
    }
   },
   "outputs": [
    {
     "name": "stdout",
     "output_type": "stream",
     "text": [
      "(12,) (923, 40, 431) (923,)\n"
     ]
    }
   ],
   "source": [
    "data_path = os.path.abspath('C:\\\\Users\\\\LENOVO\\\\Desktop\\\\SE\\\\Project')\n",
    "# Define a labels array for future use\n",
    "# Pre-processed MFCC coefficients\n",
    "X = np.load(data_path+\"\\\\train_dataset\\\\X-mfcc.npy\")\n",
    "y = np.load(data_path+\"\\\\train_dataset\\\\y-mfcc.npy\")\n",
    "\n",
    "# Metadata\n",
    "metadata = pd.read_csv(data_path+\"\\\\train_dataset\\\\train_data.csv\",encoding='unicode_escape')\n",
    "labels = metadata['ebird_code'].unique()\n",
    "print(labels.shape,X.shape,y.shape)"
   ]
  },
  {
   "cell_type": "markdown",
   "metadata": {
    "nbpresent": {
     "id": "f8043a00-6bfa-41ca-807f-a49d7430b65a"
    }
   },
   "source": [
    "### 1. Data preparation: features + metadata"
   ]
  },
  {
   "cell_type": "markdown",
   "metadata": {},
   "source": [
    "#### 1.1 Train / Test split\n",
    "\n",
    "Note that we are using the same index order for both the MFCC arrays and the metadata to keep track of the origin of each feature.<br/>\n",
    "<br/>"
   ]
  },
  {
   "cell_type": "code",
   "execution_count": 8,
   "metadata": {},
   "outputs": [
    {
     "name": "stdout",
     "output_type": "stream",
     "text": [
      "Test split: 138 \t\t Train split: 785\n",
      "X test shape: (138, 40, 431) \t X train shape: (785, 40, 431)\n",
      "y test shape: (138,) \t\t y train shape: (785,)\n"
     ]
    }
   ],
   "source": [
    "indexes = []\n",
    "total = len(metadata)\n",
    "indexes = list(range(0, total))\n",
    "\n",
    "# Randomize indexes\n",
    "random.shuffle(indexes)\n",
    "\n",
    "# Divide the indexes into Train and Test\n",
    "test_split_pct = 15\n",
    "split_offset = math.floor(test_split_pct * total / 100)\n",
    "\n",
    "# Split the metadata\n",
    "test_split_idx = indexes[0:split_offset]\n",
    "train_split_idx = indexes[split_offset:total]\n",
    "\n",
    "\n",
    "# Split the features with the same indexes\n",
    "X_test = np.take(X, test_split_idx, axis=0)\n",
    "y_test = np.take(y, test_split_idx, axis=0)\n",
    "X_train = np.take(X, train_split_idx, axis=0)\n",
    "y_train = np.take(y, train_split_idx, axis=0)\n",
    "\n",
    "# Also split metadata\n",
    "test_meta = metadata.iloc[test_split_idx]\n",
    "train_meta = metadata.iloc[train_split_idx]\n",
    "\n",
    "# Print status\n",
    "print(\"Test split: {} \\t\\t Train split: {}\".format(len(test_meta), len(train_meta)))\n",
    "print(\"X test shape: {} \\t X train shape: {}\".format(X_test.shape, X_train.shape))\n",
    "print(\"y test shape: {} \\t\\t y train shape: {}\".format(y_test.shape, y_train.shape))"
   ]
  },
  {
   "cell_type": "markdown",
   "metadata": {},
   "source": [
    "#### 1.2 One hot encode labels"
   ]
  },
  {
   "cell_type": "code",
   "execution_count": 9,
   "metadata": {
    "nbpresent": {
     "id": "65b227e7-2fe5-4582-bd79-c9e9b1b85d4e"
    }
   },
   "outputs": [],
   "source": [
    "le = LabelEncoder()\n",
    "y_test_encoded = to_categorical(le.fit_transform(y_test))\n",
    "y_train_encoded = to_categorical(le.fit_transform(y_train))"
   ]
  },
  {
   "cell_type": "markdown",
   "metadata": {
    "nbpresent": {
     "id": "720605ff-4689-47dc-b142-023ea206a50c"
    }
   },
   "source": [
    "#### 1.3 Reshape data"
   ]
  },
  {
   "cell_type": "code",
   "execution_count": 10,
   "metadata": {
    "nbpresent": {
     "id": "d742676a-5a23-4fc8-856a-ad5505238d45"
    }
   },
   "outputs": [
    {
     "name": "stdout",
     "output_type": "stream",
     "text": [
      "X test shape: (138, 40, 431, 1) \t X train shape: (785, 40, 431, 1)\n",
      "y test shape: (138,) \t\t y train shape: (785,)\n"
     ]
    }
   ],
   "source": [
    "# How data should be structured\n",
    "num_rows = 40\n",
    "num_columns = 431 \n",
    "num_channels = 1\n",
    "\n",
    "# Reshape to fit the network input (channel last)\n",
    "X_train = X_train.reshape(X_train.shape[0], num_rows, num_columns, num_channels)\n",
    "X_test = X_test.reshape(X_test.shape[0], num_rows, num_columns, num_channels)\n",
    "\n",
    "# Total number of labels to predict (equal to the network output nodes)\n",
    "num_labels = y_train_encoded.shape[1]\n",
    "print(\"X test shape: {} \\t X train shape: {}\".format(X_test.shape, X_train.shape))\n",
    "print(\"y test shape: {} \\t\\t y train shape: {}\".format(y_test.shape, y_train.shape))"
   ]
  },
  {
   "cell_type": "markdown",
   "metadata": {
    "nbpresent": {
     "id": "23ae43f0-1d59-44ab-818d-54faeecf4f1c"
    }
   },
   "source": [
    "#### 2.1 Model definition\n",
    "\n"
   ]
  },
  {
   "cell_type": "code",
   "execution_count": 9,
   "metadata": {
    "nbpresent": {
     "id": "845659a2-b4b4-4380-8d8f-51144a91ccab"
    }
   },
   "outputs": [],
   "source": [
    "# Create a secquential object\n",
    "model = Sequential()\n",
    "\n",
    "\n",
    "# Conv 1\n",
    "model.add(Conv2D(filters=32,kernel_size=(3,3),input_shape=(num_rows, num_columns, num_channels)))\n",
    "model.add(Conv2D(64, kernel_size=(3,3), activation='relu',kernel_regularizer=l2(l=0.01)))\n",
    "model.add(MaxPooling2D(pool_size=(3,3)))\n",
    "model.add(Dropout(0.3))\n",
    "model.add(Conv2D(64, kernel_size=(3,3), activation='relu',kernel_regularizer=l2(l=0.01)))\n",
    "model.add(MaxPooling2D(pool_size=(3,3)))\n",
    "model.add(Dropout(0.25))\n",
    "model.add(BatchNormalization())\n",
    "model.add(Flatten())\n",
    "#model.add(Dense(128, activation='relu'))\n",
    "model.add(Dense(64, activation='relu'))\n",
    "model.add(Dropout(0.2))\n",
    "# Softmax output\n",
    "model.add(Dense(num_labels, activation='softmax'))"
   ]
  },
  {
   "cell_type": "code",
   "execution_count": 10,
   "metadata": {
    "nbpresent": {
     "id": "b56bca3e-3fd0-4033-9d13-20db795d02f0"
    }
   },
   "outputs": [
    {
     "name": "stdout",
     "output_type": "stream",
     "text": [
      "Model: \"sequential_1\"\n",
      "_________________________________________________________________\n",
      " Layer (type)                Output Shape              Param #   \n",
      "=================================================================\n",
      " conv2d_1 (Conv2D)           (None, 38, 429, 32)       320       \n",
      "                                                                 \n",
      " conv2d_2 (Conv2D)           (None, 36, 427, 64)       18496     \n",
      "                                                                 \n",
      " max_pooling2d (MaxPooling2D  (None, 12, 142, 64)      0         \n",
      " )                                                               \n",
      "                                                                 \n",
      " dropout (Dropout)           (None, 12, 142, 64)       0         \n",
      "                                                                 \n",
      " conv2d_3 (Conv2D)           (None, 10, 140, 64)       36928     \n",
      "                                                                 \n",
      " max_pooling2d_1 (MaxPooling  (None, 3, 46, 64)        0         \n",
      " 2D)                                                             \n",
      "                                                                 \n",
      " dropout_1 (Dropout)         (None, 3, 46, 64)         0         \n",
      "                                                                 \n",
      " batch_normalization (BatchN  (None, 3, 46, 64)        256       \n",
      " ormalization)                                                   \n",
      "                                                                 \n",
      " flatten (Flatten)           (None, 8832)              0         \n",
      "                                                                 \n",
      " dense (Dense)               (None, 64)                565312    \n",
      "                                                                 \n",
      " dropout_2 (Dropout)         (None, 64)                0         \n",
      "                                                                 \n",
      " dense_1 (Dense)             (None, 12)                780       \n",
      "                                                                 \n",
      "=================================================================\n",
      "Total params: 622,092\n",
      "Trainable params: 621,964\n",
      "Non-trainable params: 128\n",
      "_________________________________________________________________\n"
     ]
    },
    {
     "name": "stderr",
     "output_type": "stream",
     "text": [
      "C:\\Users\\LENOVO\\AppData\\Local\\Packages\\PythonSoftwareFoundation.Python.3.10_qbz5n2kfra8p0\\LocalCache\\local-packages\\Python310\\site-packages\\keras\\optimizers\\optimizer_v2\\adam.py:114: UserWarning: The `lr` argument is deprecated, use `learning_rate` instead.\n",
      "  super().__init__(name, **kwargs)\n"
     ]
    }
   ],
   "source": [
    "adam = Adam(lr=0.001)\n",
    "model.compile(\n",
    "    loss='categorical_crossentropy', \n",
    "    metrics=['accuracy'], \n",
    "    optimizer=adam)\n",
    "# Display model architecture summary \n",
    "model.summary()"
   ]
  },
  {
   "cell_type": "markdown",
   "metadata": {
    "nbpresent": {
     "id": "94bf431f-27a8-4b01-b7aa-41a1947c9233"
    }
   },
   "source": [
    "#### 2.3 Training the model"
   ]
  },
  {
   "cell_type": "code",
   "execution_count": 12,
   "metadata": {
    "scrolled": true
   },
   "outputs": [
    {
     "name": "stdout",
     "output_type": "stream",
     "text": [
      "Epoch 1/60\n",
      "6/6 [==============================] - ETA: 0s - loss: 3.5291 - accuracy: 0.1377\n",
      "Epoch 1: val_loss improved from inf to 3.48610, saving model to C:\\Users\\LENOVO\\Desktop\\SE\\Project\\cnn_model1.hdf5\n",
      "6/6 [==============================] - 19s 3s/step - loss: 3.5291 - accuracy: 0.1377 - val_loss: 3.4861 - val_accuracy: 0.0909\n",
      "Epoch 2/60\n",
      "6/6 [==============================] - ETA: 0s - loss: 3.3129 - accuracy: 0.1613\n",
      "Epoch 2: val_loss improved from 3.48610 to 3.43567, saving model to C:\\Users\\LENOVO\\Desktop\\SE\\Project\\cnn_model1.hdf5\n",
      "6/6 [==============================] - 29s 5s/step - loss: 3.3129 - accuracy: 0.1613 - val_loss: 3.4357 - val_accuracy: 0.1212\n",
      "Epoch 3/60\n",
      "6/6 [==============================] - ETA: 0s - loss: 3.1478 - accuracy: 0.2434\n",
      "Epoch 3: val_loss improved from 3.43567 to 3.37271, saving model to C:\\Users\\LENOVO\\Desktop\\SE\\Project\\cnn_model1.hdf5\n",
      "6/6 [==============================] - 18s 3s/step - loss: 3.1478 - accuracy: 0.2434 - val_loss: 3.3727 - val_accuracy: 0.1970\n",
      "Epoch 4/60\n",
      "6/6 [==============================] - ETA: 0s - loss: 3.0114 - accuracy: 0.2782\n",
      "Epoch 4: val_loss improved from 3.37271 to 3.31068, saving model to C:\\Users\\LENOVO\\Desktop\\SE\\Project\\cnn_model1.hdf5\n",
      "6/6 [==============================] - 17s 3s/step - loss: 3.0114 - accuracy: 0.2782 - val_loss: 3.3107 - val_accuracy: 0.3485\n",
      "Epoch 5/60\n",
      "6/6 [==============================] - ETA: 0s - loss: 2.8248 - accuracy: 0.3338\n",
      "Epoch 5: val_loss improved from 3.31068 to 3.26702, saving model to C:\\Users\\LENOVO\\Desktop\\SE\\Project\\cnn_model1.hdf5\n",
      "6/6 [==============================] - 18s 3s/step - loss: 2.8248 - accuracy: 0.3338 - val_loss: 3.2670 - val_accuracy: 0.3485\n",
      "Epoch 6/60\n",
      "6/6 [==============================] - ETA: 0s - loss: 2.6362 - accuracy: 0.3727\n",
      "Epoch 6: val_loss improved from 3.26702 to 3.20436, saving model to C:\\Users\\LENOVO\\Desktop\\SE\\Project\\cnn_model1.hdf5\n",
      "6/6 [==============================] - 18s 3s/step - loss: 2.6362 - accuracy: 0.3727 - val_loss: 3.2044 - val_accuracy: 0.3939\n",
      "Epoch 7/60\n",
      "6/6 [==============================] - ETA: 0s - loss: 2.5125 - accuracy: 0.4145\n",
      "Epoch 7: val_loss improved from 3.20436 to 3.16846, saving model to C:\\Users\\LENOVO\\Desktop\\SE\\Project\\cnn_model1.hdf5\n",
      "6/6 [==============================] - 19s 3s/step - loss: 2.5125 - accuracy: 0.4145 - val_loss: 3.1685 - val_accuracy: 0.3182\n",
      "Epoch 8/60\n",
      "6/6 [==============================] - ETA: 0s - loss: 2.3334 - accuracy: 0.4757\n",
      "Epoch 8: val_loss improved from 3.16846 to 3.11166, saving model to C:\\Users\\LENOVO\\Desktop\\SE\\Project\\cnn_model1.hdf5\n",
      "6/6 [==============================] - 20s 3s/step - loss: 2.3334 - accuracy: 0.4757 - val_loss: 3.1117 - val_accuracy: 0.4242\n",
      "Epoch 9/60\n",
      "6/6 [==============================] - ETA: 0s - loss: 2.1763 - accuracy: 0.5021\n",
      "Epoch 9: val_loss improved from 3.11166 to 3.07958, saving model to C:\\Users\\LENOVO\\Desktop\\SE\\Project\\cnn_model1.hdf5\n",
      "6/6 [==============================] - 31s 5s/step - loss: 2.1763 - accuracy: 0.5021 - val_loss: 3.0796 - val_accuracy: 0.3939\n",
      "Epoch 10/60\n",
      "6/6 [==============================] - ETA: 0s - loss: 1.9561 - accuracy: 0.5758\n",
      "Epoch 10: val_loss improved from 3.07958 to 3.01935, saving model to C:\\Users\\LENOVO\\Desktop\\SE\\Project\\cnn_model1.hdf5\n",
      "6/6 [==============================] - 27s 4s/step - loss: 1.9561 - accuracy: 0.5758 - val_loss: 3.0194 - val_accuracy: 0.5000\n",
      "Epoch 11/60\n",
      "6/6 [==============================] - ETA: 0s - loss: 1.8556 - accuracy: 0.5647\n",
      "Epoch 11: val_loss improved from 3.01935 to 2.96960, saving model to C:\\Users\\LENOVO\\Desktop\\SE\\Project\\cnn_model1.hdf5\n",
      "6/6 [==============================] - 31s 5s/step - loss: 1.8556 - accuracy: 0.5647 - val_loss: 2.9696 - val_accuracy: 0.3939\n",
      "Epoch 12/60\n",
      "6/6 [==============================] - ETA: 0s - loss: 1.6912 - accuracy: 0.6287\n",
      "Epoch 12: val_loss improved from 2.96960 to 2.94665, saving model to C:\\Users\\LENOVO\\Desktop\\SE\\Project\\cnn_model1.hdf5\n",
      "6/6 [==============================] - 27s 4s/step - loss: 1.6912 - accuracy: 0.6287 - val_loss: 2.9466 - val_accuracy: 0.4394\n",
      "Epoch 13/60\n",
      "6/6 [==============================] - ETA: 0s - loss: 1.5839 - accuracy: 0.6509\n",
      "Epoch 13: val_loss improved from 2.94665 to 2.90992, saving model to C:\\Users\\LENOVO\\Desktop\\SE\\Project\\cnn_model1.hdf5\n",
      "6/6 [==============================] - 30s 5s/step - loss: 1.5839 - accuracy: 0.6509 - val_loss: 2.9099 - val_accuracy: 0.4242\n",
      "Epoch 14/60\n",
      "6/6 [==============================] - ETA: 0s - loss: 1.4669 - accuracy: 0.7149\n",
      "Epoch 14: val_loss improved from 2.90992 to 2.87012, saving model to C:\\Users\\LENOVO\\Desktop\\SE\\Project\\cnn_model1.hdf5\n",
      "6/6 [==============================] - 31s 5s/step - loss: 1.4669 - accuracy: 0.7149 - val_loss: 2.8701 - val_accuracy: 0.4848\n",
      "Epoch 15/60\n",
      "6/6 [==============================] - ETA: 0s - loss: 1.3104 - accuracy: 0.7288\n",
      "Epoch 15: val_loss improved from 2.87012 to 2.80545, saving model to C:\\Users\\LENOVO\\Desktop\\SE\\Project\\cnn_model1.hdf5\n",
      "6/6 [==============================] - 31s 5s/step - loss: 1.3104 - accuracy: 0.7288 - val_loss: 2.8055 - val_accuracy: 0.5152\n",
      "Epoch 16/60\n",
      "6/6 [==============================] - ETA: 0s - loss: 1.3091 - accuracy: 0.7385\n",
      "Epoch 16: val_loss improved from 2.80545 to 2.80128, saving model to C:\\Users\\LENOVO\\Desktop\\SE\\Project\\cnn_model1.hdf5\n",
      "6/6 [==============================] - 32s 5s/step - loss: 1.3091 - accuracy: 0.7385 - val_loss: 2.8013 - val_accuracy: 0.4394\n",
      "Epoch 17/60\n",
      "6/6 [==============================] - ETA: 0s - loss: 1.1597 - accuracy: 0.7900\n",
      "Epoch 17: val_loss improved from 2.80128 to 2.75119, saving model to C:\\Users\\LENOVO\\Desktop\\SE\\Project\\cnn_model1.hdf5\n",
      "6/6 [==============================] - 31s 5s/step - loss: 1.1597 - accuracy: 0.7900 - val_loss: 2.7512 - val_accuracy: 0.3788\n",
      "Epoch 18/60\n",
      "6/6 [==============================] - ETA: 0s - loss: 1.0498 - accuracy: 0.8164\n",
      "Epoch 18: val_loss improved from 2.75119 to 2.70175, saving model to C:\\Users\\LENOVO\\Desktop\\SE\\Project\\cnn_model1.hdf5\n",
      "6/6 [==============================] - 20s 3s/step - loss: 1.0498 - accuracy: 0.8164 - val_loss: 2.7017 - val_accuracy: 0.4545\n",
      "Epoch 19/60\n",
      "6/6 [==============================] - ETA: 0s - loss: 0.9948 - accuracy: 0.8387\n",
      "Epoch 19: val_loss did not improve from 2.70175\n",
      "6/6 [==============================] - 23s 4s/step - loss: 0.9948 - accuracy: 0.8387 - val_loss: 2.7113 - val_accuracy: 0.4091\n",
      "Epoch 20/60\n",
      "6/6 [==============================] - ETA: 0s - loss: 0.9082 - accuracy: 0.8693\n",
      "Epoch 20: val_loss improved from 2.70175 to 2.61687, saving model to C:\\Users\\LENOVO\\Desktop\\SE\\Project\\cnn_model1.hdf5\n",
      "6/6 [==============================] - 22s 4s/step - loss: 0.9082 - accuracy: 0.8693 - val_loss: 2.6169 - val_accuracy: 0.5455\n",
      "Epoch 21/60\n",
      "6/6 [==============================] - ETA: 0s - loss: 0.8453 - accuracy: 0.8776\n",
      "Epoch 21: val_loss improved from 2.61687 to 2.61343, saving model to C:\\Users\\LENOVO\\Desktop\\SE\\Project\\cnn_model1.hdf5\n",
      "6/6 [==============================] - 22s 4s/step - loss: 0.8453 - accuracy: 0.8776 - val_loss: 2.6134 - val_accuracy: 0.5000\n",
      "Epoch 22/60\n",
      "6/6 [==============================] - ETA: 0s - loss: 0.8162 - accuracy: 0.8873\n",
      "Epoch 22: val_loss improved from 2.61343 to 2.56814, saving model to C:\\Users\\LENOVO\\Desktop\\SE\\Project\\cnn_model1.hdf5\n",
      "6/6 [==============================] - 26s 4s/step - loss: 0.8162 - accuracy: 0.8873 - val_loss: 2.5681 - val_accuracy: 0.4848\n",
      "Epoch 23/60\n",
      "6/6 [==============================] - ETA: 0s - loss: 0.7250 - accuracy: 0.9193\n",
      "Epoch 23: val_loss improved from 2.56814 to 2.55606, saving model to C:\\Users\\LENOVO\\Desktop\\SE\\Project\\cnn_model1.hdf5\n",
      "6/6 [==============================] - 30s 5s/step - loss: 0.7250 - accuracy: 0.9193 - val_loss: 2.5561 - val_accuracy: 0.5000\n",
      "Epoch 24/60\n",
      "6/6 [==============================] - ETA: 0s - loss: 0.7112 - accuracy: 0.8971\n",
      "Epoch 24: val_loss improved from 2.55606 to 2.48216, saving model to C:\\Users\\LENOVO\\Desktop\\SE\\Project\\cnn_model1.hdf5\n",
      "6/6 [==============================] - 30s 5s/step - loss: 0.7112 - accuracy: 0.8971 - val_loss: 2.4822 - val_accuracy: 0.5000\n",
      "Epoch 25/60\n",
      "6/6 [==============================] - ETA: 0s - loss: 0.6448 - accuracy: 0.9332\n",
      "Epoch 25: val_loss improved from 2.48216 to 2.44676, saving model to C:\\Users\\LENOVO\\Desktop\\SE\\Project\\cnn_model1.hdf5\n",
      "6/6 [==============================] - 30s 5s/step - loss: 0.6448 - accuracy: 0.9332 - val_loss: 2.4468 - val_accuracy: 0.5455\n",
      "Epoch 26/60\n",
      "6/6 [==============================] - ETA: 0s - loss: 0.6143 - accuracy: 0.9360\n",
      "Epoch 26: val_loss improved from 2.44676 to 2.44167, saving model to C:\\Users\\LENOVO\\Desktop\\SE\\Project\\cnn_model1.hdf5\n",
      "6/6 [==============================] - 29s 5s/step - loss: 0.6143 - accuracy: 0.9360 - val_loss: 2.4417 - val_accuracy: 0.4697\n",
      "Epoch 27/60\n",
      "6/6 [==============================] - ETA: 0s - loss: 0.5823 - accuracy: 0.9444\n",
      "Epoch 27: val_loss improved from 2.44167 to 2.33188, saving model to C:\\Users\\LENOVO\\Desktop\\SE\\Project\\cnn_model1.hdf5\n",
      "6/6 [==============================] - 30s 5s/step - loss: 0.5823 - accuracy: 0.9444 - val_loss: 2.3319 - val_accuracy: 0.5152\n",
      "Epoch 28/60\n",
      "6/6 [==============================] - ETA: 0s - loss: 0.5837 - accuracy: 0.9444\n",
      "Epoch 28: val_loss improved from 2.33188 to 2.32566, saving model to C:\\Users\\LENOVO\\Desktop\\SE\\Project\\cnn_model1.hdf5\n",
      "6/6 [==============================] - 17s 3s/step - loss: 0.5837 - accuracy: 0.9444 - val_loss: 2.3257 - val_accuracy: 0.5152\n",
      "Epoch 29/60\n",
      "6/6 [==============================] - ETA: 0s - loss: 0.5268 - accuracy: 0.9513\n",
      "Epoch 29: val_loss did not improve from 2.32566\n",
      "6/6 [==============================] - 20s 3s/step - loss: 0.5268 - accuracy: 0.9513 - val_loss: 2.3613 - val_accuracy: 0.4697\n",
      "Epoch 30/60\n",
      "6/6 [==============================] - ETA: 0s - loss: 0.5078 - accuracy: 0.9680\n",
      "Epoch 30: val_loss improved from 2.32566 to 2.25314, saving model to C:\\Users\\LENOVO\\Desktop\\SE\\Project\\cnn_model1.hdf5\n",
      "6/6 [==============================] - 31s 5s/step - loss: 0.5078 - accuracy: 0.9680 - val_loss: 2.2531 - val_accuracy: 0.5303\n",
      "Epoch 31/60\n",
      "6/6 [==============================] - ETA: 0s - loss: 0.4937 - accuracy: 0.9638\n",
      "Epoch 31: val_loss improved from 2.25314 to 2.22625, saving model to C:\\Users\\LENOVO\\Desktop\\SE\\Project\\cnn_model1.hdf5\n",
      "6/6 [==============================] - 31s 5s/step - loss: 0.4937 - accuracy: 0.9638 - val_loss: 2.2263 - val_accuracy: 0.5606\n",
      "Epoch 32/60\n",
      "6/6 [==============================] - ETA: 0s - loss: 0.4751 - accuracy: 0.9680\n",
      "Epoch 32: val_loss improved from 2.22625 to 2.16771, saving model to C:\\Users\\LENOVO\\Desktop\\SE\\Project\\cnn_model1.hdf5\n",
      "6/6 [==============================] - 31s 5s/step - loss: 0.4751 - accuracy: 0.9680 - val_loss: 2.1677 - val_accuracy: 0.5303\n",
      "Epoch 33/60\n",
      "6/6 [==============================] - ETA: 0s - loss: 0.4656 - accuracy: 0.9680\n",
      "Epoch 33: val_loss improved from 2.16771 to 2.16628, saving model to C:\\Users\\LENOVO\\Desktop\\SE\\Project\\cnn_model1.hdf5\n",
      "6/6 [==============================] - 31s 5s/step - loss: 0.4656 - accuracy: 0.9680 - val_loss: 2.1663 - val_accuracy: 0.4545\n",
      "Epoch 34/60\n",
      "6/6 [==============================] - ETA: 0s - loss: 0.4506 - accuracy: 0.9638\n",
      "Epoch 34: val_loss improved from 2.16628 to 2.11748, saving model to C:\\Users\\LENOVO\\Desktop\\SE\\Project\\cnn_model1.hdf5\n",
      "6/6 [==============================] - 31s 5s/step - loss: 0.4506 - accuracy: 0.9638 - val_loss: 2.1175 - val_accuracy: 0.5152\n",
      "Epoch 35/60\n",
      "6/6 [==============================] - ETA: 0s - loss: 0.4456 - accuracy: 0.9583\n",
      "Epoch 35: val_loss did not improve from 2.11748\n",
      "6/6 [==============================] - 31s 5s/step - loss: 0.4456 - accuracy: 0.9583 - val_loss: 2.1423 - val_accuracy: 0.4545\n",
      "Epoch 36/60\n",
      "6/6 [==============================] - ETA: 0s - loss: 0.4175 - accuracy: 0.9764\n",
      "Epoch 36: val_loss improved from 2.11748 to 2.07782, saving model to C:\\Users\\LENOVO\\Desktop\\SE\\Project\\cnn_model1.hdf5\n",
      "6/6 [==============================] - 31s 5s/step - loss: 0.4175 - accuracy: 0.9764 - val_loss: 2.0778 - val_accuracy: 0.5758\n",
      "Epoch 37/60\n",
      "6/6 [==============================] - ETA: 0s - loss: 0.4021 - accuracy: 0.9764\n",
      "Epoch 37: val_loss improved from 2.07782 to 2.04439, saving model to C:\\Users\\LENOVO\\Desktop\\SE\\Project\\cnn_model1.hdf5\n",
      "6/6 [==============================] - 22s 3s/step - loss: 0.4021 - accuracy: 0.9764 - val_loss: 2.0444 - val_accuracy: 0.5606\n",
      "Epoch 38/60\n",
      "6/6 [==============================] - ETA: 0s - loss: 0.3926 - accuracy: 0.9680\n",
      "Epoch 38: val_loss did not improve from 2.04439\n",
      "6/6 [==============================] - 16s 3s/step - loss: 0.3926 - accuracy: 0.9680 - val_loss: 2.1063 - val_accuracy: 0.4091\n",
      "Epoch 39/60\n",
      "6/6 [==============================] - ETA: 0s - loss: 0.3692 - accuracy: 0.9777\n",
      "Epoch 39: val_loss did not improve from 2.04439\n",
      "6/6 [==============================] - 15s 3s/step - loss: 0.3692 - accuracy: 0.9777 - val_loss: 2.0725 - val_accuracy: 0.3939\n",
      "Epoch 40/60\n",
      "6/6 [==============================] - ETA: 0s - loss: 0.3475 - accuracy: 0.9861\n",
      "Epoch 40: val_loss improved from 2.04439 to 1.96151, saving model to C:\\Users\\LENOVO\\Desktop\\SE\\Project\\cnn_model1.hdf5\n",
      "6/6 [==============================] - 16s 3s/step - loss: 0.3475 - accuracy: 0.9861 - val_loss: 1.9615 - val_accuracy: 0.5152\n",
      "Epoch 41/60\n",
      "6/6 [==============================] - ETA: 0s - loss: 0.3405 - accuracy: 0.9805\n",
      "Epoch 41: val_loss improved from 1.96151 to 1.94327, saving model to C:\\Users\\LENOVO\\Desktop\\SE\\Project\\cnn_model1.hdf5\n",
      "6/6 [==============================] - 16s 3s/step - loss: 0.3405 - accuracy: 0.9805 - val_loss: 1.9433 - val_accuracy: 0.5152\n",
      "Epoch 42/60\n",
      "6/6 [==============================] - ETA: 0s - loss: 0.3292 - accuracy: 0.9805\n",
      "Epoch 42: val_loss did not improve from 1.94327\n",
      "6/6 [==============================] - 16s 3s/step - loss: 0.3292 - accuracy: 0.9805 - val_loss: 1.9935 - val_accuracy: 0.4545\n",
      "Epoch 43/60\n",
      "6/6 [==============================] - ETA: 0s - loss: 0.3110 - accuracy: 0.9861\n",
      "Epoch 43: val_loss did not improve from 1.94327\n",
      "6/6 [==============================] - 19s 3s/step - loss: 0.3110 - accuracy: 0.9861 - val_loss: 1.9570 - val_accuracy: 0.4545\n",
      "Epoch 44/60\n",
      "6/6 [==============================] - ETA: 0s - loss: 0.3108 - accuracy: 0.9833\n",
      "Epoch 44: val_loss improved from 1.94327 to 1.94067, saving model to C:\\Users\\LENOVO\\Desktop\\SE\\Project\\cnn_model1.hdf5\n",
      "6/6 [==============================] - 20s 3s/step - loss: 0.3108 - accuracy: 0.9833 - val_loss: 1.9407 - val_accuracy: 0.4848\n",
      "Epoch 45/60\n",
      "6/6 [==============================] - ETA: 0s - loss: 0.2943 - accuracy: 0.9917\n",
      "Epoch 45: val_loss improved from 1.94067 to 1.91188, saving model to C:\\Users\\LENOVO\\Desktop\\SE\\Project\\cnn_model1.hdf5\n",
      "6/6 [==============================] - 17s 3s/step - loss: 0.2943 - accuracy: 0.9917 - val_loss: 1.9119 - val_accuracy: 0.5000\n",
      "Epoch 46/60\n",
      "6/6 [==============================] - ETA: 0s - loss: 0.3052 - accuracy: 0.9777\n",
      "Epoch 46: val_loss improved from 1.91188 to 1.89585, saving model to C:\\Users\\LENOVO\\Desktop\\SE\\Project\\cnn_model1.hdf5\n",
      "6/6 [==============================] - 17s 3s/step - loss: 0.3052 - accuracy: 0.9777 - val_loss: 1.8959 - val_accuracy: 0.4848\n",
      "Epoch 47/60\n",
      "6/6 [==============================] - ETA: 0s - loss: 0.2901 - accuracy: 0.9847\n",
      "Epoch 47: val_loss improved from 1.89585 to 1.88606, saving model to C:\\Users\\LENOVO\\Desktop\\SE\\Project\\cnn_model1.hdf5\n",
      "6/6 [==============================] - 17s 3s/step - loss: 0.2901 - accuracy: 0.9847 - val_loss: 1.8861 - val_accuracy: 0.5000\n",
      "Epoch 48/60\n",
      "6/6 [==============================] - ETA: 0s - loss: 0.2822 - accuracy: 0.9805\n",
      "Epoch 48: val_loss did not improve from 1.88606\n",
      "6/6 [==============================] - 17s 3s/step - loss: 0.2822 - accuracy: 0.9805 - val_loss: 1.9648 - val_accuracy: 0.4091\n",
      "Epoch 49/60\n",
      "6/6 [==============================] - ETA: 0s - loss: 0.2708 - accuracy: 0.9833\n",
      "Epoch 49: val_loss improved from 1.88606 to 1.84123, saving model to C:\\Users\\LENOVO\\Desktop\\SE\\Project\\cnn_model1.hdf5\n",
      "6/6 [==============================] - 18s 3s/step - loss: 0.2708 - accuracy: 0.9833 - val_loss: 1.8412 - val_accuracy: 0.4242\n",
      "Epoch 50/60\n",
      "6/6 [==============================] - ETA: 0s - loss: 0.2593 - accuracy: 0.9889\n",
      "Epoch 50: val_loss improved from 1.84123 to 1.78648, saving model to C:\\Users\\LENOVO\\Desktop\\SE\\Project\\cnn_model1.hdf5\n",
      "6/6 [==============================] - 18s 3s/step - loss: 0.2593 - accuracy: 0.9889 - val_loss: 1.7865 - val_accuracy: 0.4848\n",
      "Epoch 51/60\n",
      "6/6 [==============================] - ETA: 0s - loss: 0.2547 - accuracy: 0.9861\n",
      "Epoch 51: val_loss did not improve from 1.78648\n",
      "6/6 [==============================] - 17s 3s/step - loss: 0.2547 - accuracy: 0.9861 - val_loss: 1.8153 - val_accuracy: 0.4242\n",
      "Epoch 52/60\n",
      "6/6 [==============================] - ETA: 0s - loss: 0.2525 - accuracy: 0.9791\n",
      "Epoch 52: val_loss did not improve from 1.78648\n",
      "6/6 [==============================] - 17s 3s/step - loss: 0.2525 - accuracy: 0.9791 - val_loss: 1.8432 - val_accuracy: 0.4091\n",
      "Epoch 53/60\n",
      "6/6 [==============================] - ETA: 0s - loss: 0.2378 - accuracy: 0.9875\n",
      "Epoch 53: val_loss did not improve from 1.78648\n",
      "6/6 [==============================] - 18s 3s/step - loss: 0.2378 - accuracy: 0.9875 - val_loss: 1.8766 - val_accuracy: 0.4394\n",
      "Epoch 54/60\n",
      "6/6 [==============================] - ETA: 0s - loss: 0.2291 - accuracy: 0.9917\n",
      "Epoch 54: val_loss improved from 1.78648 to 1.77174, saving model to C:\\Users\\LENOVO\\Desktop\\SE\\Project\\cnn_model1.hdf5\n",
      "6/6 [==============================] - 18s 3s/step - loss: 0.2291 - accuracy: 0.9917 - val_loss: 1.7717 - val_accuracy: 0.5000\n",
      "Epoch 55/60\n",
      "6/6 [==============================] - ETA: 0s - loss: 0.2255 - accuracy: 0.9889\n",
      "Epoch 55: val_loss improved from 1.77174 to 1.70500, saving model to C:\\Users\\LENOVO\\Desktop\\SE\\Project\\cnn_model1.hdf5\n",
      "6/6 [==============================] - 18s 3s/step - loss: 0.2255 - accuracy: 0.9889 - val_loss: 1.7050 - val_accuracy: 0.5000\n",
      "Epoch 56/60\n",
      "6/6 [==============================] - ETA: 0s - loss: 0.2268 - accuracy: 0.9847\n",
      "Epoch 56: val_loss improved from 1.70500 to 1.65465, saving model to C:\\Users\\LENOVO\\Desktop\\SE\\Project\\cnn_model1.hdf5\n",
      "6/6 [==============================] - 18s 3s/step - loss: 0.2268 - accuracy: 0.9847 - val_loss: 1.6546 - val_accuracy: 0.5000\n",
      "Epoch 57/60\n",
      "6/6 [==============================] - ETA: 0s - loss: 0.2131 - accuracy: 0.9944\n",
      "Epoch 57: val_loss did not improve from 1.65465\n",
      "6/6 [==============================] - 18s 3s/step - loss: 0.2131 - accuracy: 0.9944 - val_loss: 1.7463 - val_accuracy: 0.4697\n",
      "Epoch 58/60\n",
      "6/6 [==============================] - ETA: 0s - loss: 0.2136 - accuracy: 0.9903\n",
      "Epoch 58: val_loss did not improve from 1.65465\n",
      "6/6 [==============================] - 18s 3s/step - loss: 0.2136 - accuracy: 0.9903 - val_loss: 1.7067 - val_accuracy: 0.5000\n",
      "Epoch 59/60\n",
      "6/6 [==============================] - ETA: 0s - loss: 0.2178 - accuracy: 0.9777\n",
      "Epoch 59: val_loss did not improve from 1.65465\n",
      "6/6 [==============================] - 18s 3s/step - loss: 0.2178 - accuracy: 0.9777 - val_loss: 1.7086 - val_accuracy: 0.4697\n",
      "Epoch 60/60\n",
      "6/6 [==============================] - ETA: 0s - loss: 0.2141 - accuracy: 0.9847\n",
      "Epoch 60: val_loss did not improve from 1.65465\n",
      "6/6 [==============================] - 20s 3s/step - loss: 0.2141 - accuracy: 0.9847 - val_loss: 1.8180 - val_accuracy: 0.4394\n"
     ]
    }
   ],
   "source": [
    "num_epochs = 60\n",
    "num_batch_size = 128\n",
    "model_file = 'cnn_model2.hdf5'\n",
    "model_path = \"C:\\\\Users\\\\LENOVO\\\\Desktop\\SE\\\\Project\\\\\"+model_file\n",
    "\n",
    "\n",
    "# Save checkpoints\n",
    "checkpointer = ModelCheckpoint(filepath=model_path, \n",
    "                               verbose=1, \n",
    "                               save_best_only=True)\n",
    "history = model.fit(X_train, \n",
    "                    y_train_encoded, \n",
    "                    batch_size=num_batch_size, \n",
    "                    epochs=num_epochs, \n",
    "                    validation_split=1/12.,\n",
    "                    callbacks=[checkpointer], \n",
    "                    verbose=1)"
   ]
  },
  {
   "cell_type": "code",
   "execution_count": 13,
   "metadata": {},
   "outputs": [],
   "source": [
    "def evaluate_model(model, X_train, y_train, X_test, y_test):\n",
    "    train_score = model.evaluate(X_train, y_train, verbose=0)\n",
    "    test_score = model.evaluate(X_test, y_test, verbose=0)\n",
    "    return train_score, test_score"
   ]
  },
  {
   "cell_type": "code",
   "execution_count": 14,
   "metadata": {},
   "outputs": [],
   "source": [
    "def model_evaluation_report(model, X_train, y_train, X_test, y_test, calc_normal=True):\n",
    "    dash = '-' * 38\n",
    "\n",
    "    # Compute scores\n",
    "    train_score, test_score = evaluate_model(model, X_train, y_train, X_test, y_test)\n",
    "\n",
    "    # Pint Train vs Test report\n",
    "    print('{:<10s}{:>14s}{:>14s}'.format(\"\", \"LOSS\", \"ACCURACY\"))\n",
    "    print(dash)\n",
    "    print('{:<10s}{:>14.4f}{:>14.4f}'.format( \"Training:\", train_score[0], 100 * train_score[1]))\n",
    "    print('{:<10s}{:>14.4f}{:>14.4f}'.format( \"Test:\", test_score[0], 100 * test_score[1]))\n",
    "\n",
    "\n",
    "    # Calculate and report normalized error difference?\n",
    "    if (calc_normal):\n",
    "        max_err = max(train_score[0], test_score[0])\n",
    "        error_diff = max_err - min(train_score[0], test_score[0])\n",
    "        normal_diff = error_diff * 100 / max_err\n",
    "        print('{:<10s}{:>13.2f}{:>1s}'.format(\"Normal diff \", normal_diff, \"\"))"
   ]
  },
  {
   "cell_type": "code",
   "execution_count": 15,
   "metadata": {},
   "outputs": [
    {
     "name": "stdout",
     "output_type": "stream",
     "text": [
      "                    LOSS      ACCURACY\n",
      "--------------------------------------\n",
      "Training:         0.7302       95.6688\n",
      "Test:             1.5714       63.0435\n",
      "Normal diff         53.53 \n"
     ]
    }
   ],
   "source": [
    "# Load best saved model\n",
    "model = load_model(model_path)\n",
    "\n",
    "model_evaluation_report(model, X_train, y_train_encoded, X_test, y_test_encoded)"
   ]
  },
  {
   "cell_type": "code",
   "execution_count": 16,
   "metadata": {},
   "outputs": [
    {
     "name": "stderr",
     "output_type": "stream",
     "text": [
      "C:\\Users\\LENOVO\\AppData\\Local\\Temp\\ipykernel_29668\\1987032789.py:9: SettingWithCopyWarning: \n",
      "A value is trying to be set on a copy of a slice from a DataFrame.\n",
      "Try using .loc[row_indexer,col_indexer] = value instead\n",
      "\n",
      "See the caveats in the documentation: https://pandas.pydata.org/pandas-docs/stable/user_guide/indexing.html#returning-a-view-versus-a-copy\n",
      "  test_meta['pred'] = yhat_probs\n"
     ]
    }
   ],
   "source": [
    "# Predict probabilities for test set\n",
    "y_probs = model.predict(X_test, verbose=0)\n",
    "print(y_probs[0:5])"
   ]
  },
  {
   "cell_type": "code",
   "execution_count": null,
   "metadata": {},
   "outputs": [],
   "source": [
    "# Get predicted labels\n",
    "yhat_probs = np.argmax(y_probs, axis=1)\n",
    "y_trues = np.argmax(y_test_encoded, axis=1)\n",
    "\n",
    "# Add \"pred\" column\n",
    "test_meta['pred'] = yhat_probs"
   ]
  },
  {
   "cell_type": "code",
   "execution_count": 19,
   "metadata": {},
   "outputs": [
    {
     "name": "stdout",
     "output_type": "stream",
     "text": [
      "              precision    recall  f1-score   support\n",
      "\n",
      "      amewig       0.67      0.50      0.57         4\n",
      "      amewoo       0.70      0.44      0.54        16\n",
      "      amtspa       0.70      0.78      0.74         9\n",
      "      annhum       0.62      0.80      0.70        10\n",
      "      astfly       0.54      0.93      0.68        14\n",
      "      baisan       0.40      0.17      0.24        12\n",
      "      baleag       0.50      0.25      0.33         4\n",
      "      balori       0.54      0.68      0.60        19\n",
      "      banswa       0.67      0.67      0.67         9\n",
      "      barswa       0.68      0.93      0.79        14\n",
      "      bawwar       0.75      0.75      0.75        16\n",
      "     belkin1       1.00      0.27      0.43        11\n",
      "\n",
      "    accuracy                           0.63       138\n",
      "   macro avg       0.65      0.60      0.59       138\n",
      "weighted avg       0.65      0.63      0.60       138\n",
      "\n"
     ]
    }
   ],
   "source": [
    "# Build classification report\n",
    "re = classification_report(y_trues, yhat_probs, labels=[0,1,2,3,4,5,6,7,8,9,10,11], target_names=labels)\n",
    "print(re)"
   ]
  }
 ],
 "metadata": {
  "kernelspec": {
   "display_name": "Python 3.10.8 64-bit (microsoft store)",
   "language": "python",
   "name": "python3"
  },
  "language_info": {
   "codemirror_mode": {
    "name": "ipython",
    "version": 3
   },
   "file_extension": ".py",
   "mimetype": "text/x-python",
   "name": "python",
   "nbconvert_exporter": "python",
   "pygments_lexer": "ipython3",
   "version": "3.10.8"
  },
  "vscode": {
   "interpreter": {
    "hash": "84fd2673a0f847bf80637898000f9b4175f2ffd476d5f31b41a838c2acdb5b76"
   }
  }
 },
 "nbformat": 4,
 "nbformat_minor": 2
}
